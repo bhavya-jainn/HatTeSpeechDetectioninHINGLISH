{
 "cells": [
  {
   "cell_type": "code",
   "execution_count": null,
   "metadata": {},
   "outputs": [],
   "source": [
    "import tweepy\n",
    "import csv\n",
    "import pandas as pd\n",
    "import ssl\n",
    "import re"
   ]
  },
  {
   "cell_type": "markdown",
   "metadata": {},
   "source": [
    "# Data Scraping using Tweepy"
   ]
  },
  {
   "cell_type": "code",
   "execution_count": null,
   "metadata": {},
   "outputs": [],
   "source": [
    "consumer_key = 'K5fW90zWzncqZkSp0wWpNNc6U'\n",
    "consumer_secret = 'Gm3ybykDnVXecjiQvFGTRC6WpYPlOFGiRs54BHzHCN96ZAjF3z'\n",
    "access_token = '1243418781130428419-9cD0EKifS5wJS7f9VqMZ43kjdwTUQA'\n",
    "access_token_secret = 'HgRRB46Va5P1PFS9v3VLKcNQMYxXok4TUUEHd9v4ROvCQ'\n",
    "\n",
    "auth = tweepy.OAuthHandler(consumer_key, consumer_secret)\n",
    "auth.set_access_token(access_token, access_token_secret)\n",
    "\n",
    "api = tweepy.API(auth)"
   ]
  },
  {
   "cell_type": "code",
   "execution_count": null,
   "metadata": {},
   "outputs": [],
   "source": [
    "ssl._create_default_https_context = ssl._create_unverified_context\n",
    "tweet_id = '1378659158627549186'\n",
    "name  = 'imVkohli'\n",
    "status = api.get_status(tweet_id, tweet_mode = \"extended\") \n",
    "full_text = status.full_text  \n",
    "  \n",
    "print(\"The text of the status is : \\n\\n\" + full_text)"
   ]
  },
  {
   "cell_type": "code",
   "execution_count": null,
   "metadata": {},
   "outputs": [],
   "source": [
    "replies=[]\n",
    "for tweet in tweepy.Cursor(api.search,q='to:'+name,lang = 'hi').items(1000):\n",
    "    if hasattr(tweet, 'in_reply_to_status_id_str'):\n",
    "        if (tweet.in_reply_to_status_id_str==tweet_id):\n",
    "            replies.append(tweet)"
   ]
  },
  {
   "cell_type": "code",
   "execution_count": null,
   "metadata": {},
   "outputs": [],
   "source": [
    "with open('replies.csv', 'a') as f:\n",
    "    csv_writer = csv.DictWriter(f, fieldnames=('tweet', 'reply'))\n",
    "    csv_writer.writeheader()\n",
    "    for tweet in replies:\n",
    "        row = {'tweet': full_text.encode('utf-8'), 'reply': tweet.text.replace('\\n', ' ').encode('utf-8')}\n",
    "        csv_writer.writerow(row)"
   ]
  },
  {
   "cell_type": "code",
   "execution_count": null,
   "metadata": {},
   "outputs": [],
   "source": [
    "train = pd.read_excel('Labelled(combined).xlsx')\n",
    "train"
   ]
  },
  {
   "cell_type": "markdown",
   "metadata": {},
   "source": [
    "# Cleaning Dataset"
   ]
  },
  {
   "cell_type": "code",
   "execution_count": null,
   "metadata": {},
   "outputs": [],
   "source": [
    "def clean_text(text):\n",
    "    text = re.sub(r'[^a-zA-Z\\']', ' ', str(text))\n",
    "    text = re.sub(r'[^\\x00-\\x7F]+', '', text)\n",
    "    text = text.lower()      \n",
    "    return text\n",
    "\n",
    "train['TEXT'] = train.REPLY.apply(clean_text)"
   ]
  },
  {
   "cell_type": "code",
   "execution_count": null,
   "metadata": {},
   "outputs": [],
   "source": [
    "train.drop('REPLY',axis='columns',inplace = True)"
   ]
  },
  {
   "cell_type": "code",
   "execution_count": null,
   "metadata": {},
   "outputs": [],
   "source": [
    "train.to_excel('cleaned.xlsx')"
   ]
  }
 ],
 "metadata": {
  "kernelspec": {
   "display_name": "Python 3",
   "language": "python",
   "name": "python3"
  },
  "language_info": {
   "codemirror_mode": {
    "name": "ipython",
    "version": 3
   },
   "file_extension": ".py",
   "mimetype": "text/x-python",
   "name": "python",
   "nbconvert_exporter": "python",
   "pygments_lexer": "ipython3",
   "version": "3.8.5"
  }
 },
 "nbformat": 4,
 "nbformat_minor": 4
}
